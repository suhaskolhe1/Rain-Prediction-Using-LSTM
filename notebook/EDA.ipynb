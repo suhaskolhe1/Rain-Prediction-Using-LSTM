{
 "cells": [
  {
   "cell_type": "code",
   "execution_count": 4,
   "id": "00f33d0e",
   "metadata": {},
   "outputs": [
    {
     "name": "stdout",
     "output_type": "stream",
     "text": [
      "Final dataset with features ['MinTemp', 'MaxTemp', 'WindGustDir', 'WindGustSpeed', 'Humidity', 'Pressure', 'Temp'] and target 'RainTomorrow' saved at data\\processed\\final_dataset.csv\n"
     ]
    }
   ],
   "source": [
    "import pandas as pd\n",
    "from pathlib import Path\n",
    "\n",
    "# Paths\n",
    "raw_path = Path(\"E:/IDE/Python/PythonProject/Rain/Rain-Prediction-Using-LSTM/data/raw\")\n",
    "csv_files = list(raw_path.glob(\"*.csv\"))\n",
    "\n",
    "# Read and merge\n",
    "df_list = [pd.read_csv(file) for file in csv_files]\n",
    "merged_df = pd.concat(df_list, ignore_index=True)\n",
    "\n",
    "# Create a mapping from old -> new column names\n",
    "rename_map = {\n",
    "    \"tempmin\": \"MinTemp\",\n",
    "    \"tempmax\": \"MaxTemp\",\n",
    "    \"winddir\": \"WindGustDir\",       # assuming winddir ~ WindGustDir\n",
    "    \"windgust\": \"WindGustSpeed\",    # assuming windgust ~ WindGustSpeed\n",
    "    \"humidity\": \"Humidity\",\n",
    "    \"sealevelpressure\": \"Pressure\",\n",
    "    \"temp\": \"Temp\"\n",
    "}\n",
    "\n",
    "# Keep only required features + target\n",
    "features = ['MinTemp', 'MaxTemp', 'WindGustDir', 'WindGustSpeed', 'Humidity', 'Pressure', 'Temp']\n",
    "target = 'RainTomorrow'\n",
    "\n",
    "# Apply renaming\n",
    "merged_df = merged_df.rename(columns=rename_map)\n",
    "\n",
    "# Subset the dataset\n",
    "final_df = merged_df[features].copy()\n",
    "\n",
    "# For target, create a dummy column (since original dataset may not have RainTomorrow)\n",
    "# Example: If precipprob > 50% → RainTomorrow = Yes else No\n",
    "if 'precipprob' in merged_df.columns:\n",
    "    final_df[target] = merged_df['precipprob'].apply(lambda x: \"Yes\" if x > 50 else \"No\")\n",
    "else:\n",
    "    final_df[target] = \"No\"  # fallback placeholder\n",
    "\n",
    "# Save\n",
    "output_path = Path(\"data/processed/final_dataset.csv\")\n",
    "output_path.parent.mkdir(parents=True, exist_ok=True)\n",
    "final_df.to_csv(output_path, index=False)\n",
    "\n",
    "print(f\"Final dataset with features {features} and target '{target}' saved at {output_path}\")\n"
   ]
  },
  {
   "cell_type": "code",
   "execution_count": 5,
   "id": "d46e3ec3",
   "metadata": {},
   "outputs": [
    {
     "name": "stdout",
     "output_type": "stream",
     "text": [
      "✅ Final dataset saved: data\\processed\\final_dataset.csv\n"
     ]
    }
   ],
   "source": [
    "import pandas as pd\n",
    "from pathlib import Path\n",
    "\n",
    "# Function to convert degrees → compass direction\n",
    "def deg_to_compass(deg):\n",
    "    dirs = ['N', 'NE', 'E', 'SE', 'S', 'SW', 'W', 'NW']\n",
    "    ix = round(deg / 45) % 8\n",
    "    return dirs[ix]\n",
    "\n",
    "# Paths\n",
    "raw_path = Path(\"E:/IDE/Python/PythonProject/Rain/Rain-Prediction-Using-LSTM/data/raw\")\n",
    "csv_files = list(raw_path.glob(\"*.csv\"))\n",
    "\n",
    "# Read and merge\n",
    "df_list = [pd.read_csv(file) for file in csv_files]\n",
    "merged_df = pd.concat(df_list, ignore_index=True)\n",
    "\n",
    "# Extract and rename only required columns\n",
    "final_df = pd.DataFrame({\n",
    "    \"MinTemp\": merged_df[\"tempmin\"],\n",
    "    \"MaxTemp\": merged_df[\"tempmax\"],\n",
    "    \"WindGustDir\": merged_df[\"winddir\"].apply(deg_to_compass),  # convert degrees → direction\n",
    "    \"WindGustSpeed\": merged_df[\"windgust\"],\n",
    "    \"Humidity\": merged_df[\"humidity\"],\n",
    "    \"Pressure\": merged_df[\"sealevelpressure\"],\n",
    "    \"Temp\": merged_df[\"temp\"]\n",
    "})\n",
    "\n",
    "# Generate RainTomorrow column\n",
    "final_df[\"RainTomorrow\"] = merged_df[\"precipprob\"].apply(lambda x: \"Yes\" if x > 50 else \"No\")\n",
    "\n",
    "# Save\n",
    "output_path = Path(\"data/processed/final_dataset.csv\")\n",
    "output_path.parent.mkdir(parents=True, exist_ok=True)\n",
    "final_df.to_csv(output_path, index=False)\n",
    "\n",
    "print(\"✅ Final dataset saved:\", output_path)\n"
   ]
  }
 ],
 "metadata": {
  "kernelspec": {
   "display_name": "Python 3",
   "language": "python",
   "name": "python3"
  },
  "language_info": {
   "codemirror_mode": {
    "name": "ipython",
    "version": 3
   },
   "file_extension": ".py",
   "mimetype": "text/x-python",
   "name": "python",
   "nbconvert_exporter": "python",
   "pygments_lexer": "ipython3",
   "version": "3.8.20"
  }
 },
 "nbformat": 4,
 "nbformat_minor": 5
}
